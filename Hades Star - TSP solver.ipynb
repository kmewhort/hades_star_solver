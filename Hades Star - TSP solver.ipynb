{
 "cells": [
  {
   "cell_type": "markdown",
   "metadata": {},
   "source": [
    "# Hades Star TSP Solver\n",
    "\n",
    "## About\n",
    "\n",
    "This is a set of calculations, namely involving using a TSP (travelling salesman problem) solver, to optimize station and warp lane placement in Hades Star.\n",
    "\n",
    "## Stategy involved\n",
    "\n",
    "The core strategy here is to minimize travel distance for a route to hit ALL planets and stations.  The assumptions here are that:\n",
    "* We don't want to use auto-shipment drones (they achieve considerably fewer credits than stacked Trade Burst + Shipment Comupter)\n",
    "* The distribution of target planets can be considered random (and note that this isn't actually the case...as you explore more planets, those higher-yield ones further away are going to collectively generate more shipments to each other)\n",
    "* We don't want to spend time actually looking at the shipments for each individual planet each time we farm shipments\n",
    "\n",
    "Once we find the optimal path, best way to use should be to:\n",
    "1. Fire up warp lanes\n",
    "2. Trade burst two ships and send them opposite directions around the path (this helps prevent carrying shipments the long way around)\n",
    "\n",
    "## Steps shown below\n",
    "\n",
    "1. Initialize planet and sector data that was collected using our *Hades Star Data Builder* workbook.\n",
    "2. Write a helper for visualizing the data overlayed on our star system screenshot.\n",
    "3. Write a helper for calculating pairwise distances between planets, also supporting a list of warp lanes where the pairwise distance is considered zero.\n",
    "4. Test Google's OR tools solver to optimize the bare path (no warp lanes, no trade stations)\n",
    "5. Calculate the amount of time to optimize over three warp lanes with a brute force approach\n",
    "6. Conclude the above is too long! **Several hours** and we haven't even placed trade stations.\n",
    "7. Generate a list of possible trade station points (hexagon center + hexagon corners)\n",
    "8. Write helpers for adding warp lanes and trade stations to our system map.\n",
    "9. Come up with a sub-optimal solution by adding, alternatively, one trade station and one warplane, optimizing for each step\n",
    "\n",
    "\n",
    "## Further Work?!\n",
    "\n",
    "The approach of adding one station/warp lane at a time is very suboptimal.  Would be much better to add these as additional dimensions in the solver and optimize across the board simultaneously."
   ]
  },
  {
   "cell_type": "code",
   "execution_count": 51,
   "metadata": {},
   "outputs": [
    {
     "data": {
      "text/html": [
       "<style>\n",
       ".output {\n",
       "    flex-direction: row;\n",
       "}\n",
       "div.output_subarea, div.output_area img {\n",
       "  max-width: none;\n",
       "}\n",
       ".widget-image {\n",
       "    position: absolute !important;\n",
       "    left: 125px !important;\n",
       "    top: 15px !important;\n",
       "    opacity: 0.2 !important;\n",
       "    width: 392px !important;\n",
       "    height: 705px !important;\n",
       "}\n",
       "</style>"
      ],
      "text/plain": [
       "<IPython.core.display.HTML object>"
      ]
     },
     "execution_count": 51,
     "metadata": {},
     "output_type": "execute_result"
    }
   ],
   "source": [
    "# initialize\n",
    "import pandas as pd\n",
    "import numpy as np\n",
    "import itertools as itertools\n",
    "from ipywidgets import Image, widgets\n",
    "from IPython.display import display, HTML\n",
    "import matplotlib.pyplot as plot\n",
    "from ortools.constraint_solver import pywrapcp, routing_enums_pb2\n",
    "import math\n",
    "import re\n",
    "\n",
    "# two column, but don't let our images get squished;\n",
    "# stop line-breaking in the middle on numbers (Jupyter bug?);\n",
    "# blend our star system images left into the graphs beside them\n",
    "CSS = \"\"\"\n",
    ".output {\n",
    "    flex-direction: row;\n",
    "}\n",
    "div.output_subarea, div.output_area img {\n",
    "  max-width: none;\n",
    "}\n",
    ".widget-image {\n",
    "    position: absolute !important;\n",
    "    left: 125px !important;\n",
    "    top: 15px !important;\n",
    "    opacity: 0.2 !important;\n",
    "    width: 392px !important;\n",
    "    height: 705px !important;\n",
    "}\n",
    "\"\"\"\n",
    "\n",
    "HTML('<style>{}</style>'.format(CSS))"
   ]
  },
  {
   "cell_type": "code",
   "execution_count": 52,
   "metadata": {},
   "outputs": [],
   "source": [
    "# Helpers for overlaying an image on our plots\n",
    "def configure_planet_plot():\n",
    "  plot.figure(figsize=(7,13))\n",
    "  plot.axis([0, 392, 0, 705])\n",
    "  plot.gca().invert_yaxis()\n",
    "\n",
    "def display_star_system_overlay():\n",
    "  SCREENSHOT_FILENAME = './screenshot.png'\n",
    "  image = Image(value=open(SCREENSHOT_FILENAME, 'rb').read(), width=320)  \n",
    "  display(image) \n"
   ]
  },
  {
   "cell_type": "code",
   "execution_count": 53,
   "metadata": {},
   "outputs": [
    {
     "data": {
      "image/png": "[encoded data removed]",
      "text/plain": [
       "<Figure size 504x936 with 1 Axes>"
      ]
     },
     "metadata": {},
     "output_type": "display_data"
    },
    {
     "data": {
      "application/vnd.jupyter.widget-view+json": {
       "model_id": "652b3bfcdcb94b279ea4d8f5ed1423d7",
       "version_major": 2,
       "version_minor": 0
      },
      "text/plain": [
       "Image(value=b'\\x89PNG\\r\\n\\x1a\\n\\x00\\x00\\x00\\rIHDR\\x00\\x00\\x048\\x00\\x00\\x07\\x80\\x08\\x02\\x00\\x00\\x00\\xa4\\x03p]\\x…"
      ]
     },
     "metadata": {},
     "output_type": "display_data"
    }
   ],
   "source": [
    "# load our data (use the Data Builder to generate these files)\n",
    "planets = pd.read_csv('./planets.csv')\n",
    "sectors = pd.read_csv('./sectors.csv')\n",
    "\n",
    "configure_planet_plot()\n",
    "plot.scatter(planets['X'], planets['Y'])\n",
    "plot.show()\n",
    "display_star_system_overlay()"
   ]
  },
  {
   "cell_type": "code",
   "execution_count": 54,
   "metadata": {},
   "outputs": [
    {
     "data": {
      "text/plain": [
       "array([[  0.        ,  86.20904825, 166.01204776, 137.61177275,\n",
       "        154.65122049, 210.68459839, 307.902582  , 380.84117424,\n",
       "        388.29112789, 429.5718799 ],\n",
       "       [ 86.20904825,   0.        , 148.        ,  92.89241088,\n",
       "         82.75868534, 130.        , 239.94165958, 319.66232183,\n",
       "        312.77148208, 352.4599268 ],\n",
       "       [166.01204776, 148.        ,   0.        ,  62.39390996,\n",
       "        109.        , 241.53674669, 184.0978001 , 236.66009381,\n",
       "        275.00181818, 318.02515624],\n",
       "       [137.61177275,  92.89241088,  62.39390996,   0.        ,\n",
       "         49.57822102, 179.60233851, 173.25414858, 243.31255619,\n",
       "        258.81460546, 301.44485399],\n",
       "       [154.65122049,  82.75868534, 109.        ,  49.57822102,\n",
       "          0.        , 133.5402561 , 157.43252523, 237.00843867,\n",
       "        233.85679379, 274.93453766],\n",
       "       [210.68459839, 130.        , 241.53674669, 179.60233851,\n",
       "        133.5402561 ,   0.        , 231.48218074, 315.77840331,\n",
       "        269.8036323 , 299.93332592],\n",
       "       [307.902582  , 239.94165958, 184.0978001 , 173.25414858,\n",
       "        157.43252523, 231.48218074,   0.        ,  84.97058314,\n",
       "         91.13725912, 134.01492454],\n",
       "       [380.84117424, 319.66232183, 236.66009381, 243.31255619,\n",
       "        237.00843867, 315.77840331,  84.97058314,   0.        ,\n",
       "         96.79876032, 123.69316877],\n",
       "       [388.29112789, 312.77148208, 275.00181818, 258.81460546,\n",
       "        233.85679379, 269.8036323 ,  91.13725912,  96.79876032,\n",
       "          0.        ,  43.10452412],\n",
       "       [429.5718799 , 352.4599268 , 318.02515624, 301.44485399,\n",
       "        274.93453766, 299.93332592, 134.01492454, 123.69316877,\n",
       "         43.10452412,   0.        ]])"
      ]
     },
     "execution_count": 54,
     "metadata": {},
     "output_type": "execute_result"
    }
   ],
   "source": [
    "# calculate the pairwise distances between the points (see https://stackoverflow.com/questions/4856090/symmetric-matrices-in-numpy)\n",
    "def calc_pairwise_distances(x,y, warp_lanes = []):\n",
    "  size = len(x)\n",
    "  matrix = [[0] * size for _ in range(size)]\n",
    "  for from_node in range(size):\n",
    "    for to_node in range(size):\n",
    "      if from_node == to_node:\n",
    "        matrix[from_node][to_node] = 0\n",
    "      else:\n",
    "        matrix[from_node][to_node] = math.sqrt((x[from_node] - x[to_node])**2 + (y[from_node] - y[to_node])**2)\n",
    "  result = np.array(matrix)\n",
    "  # zero distance between any warp lanes\n",
    "  for lane in warp_lanes:\n",
    "    result[lane[0]][lane[1]] = 0 \n",
    "    result[lane[1]][lane[0]] = 0 \n",
    "  return result  \n",
    "\n",
    "planet_pairwise_distances = calc_pairwise_distances(planets['X'], planets['Y'])\n",
    "planet_pairwise_distances"
   ]
  },
  {
   "cell_type": "code",
   "execution_count": 55,
   "metadata": {},
   "outputs": [
    {
     "name": "stdout",
     "output_type": "stream",
     "text": [
      "Total distance: 1169\n"
     ]
    },
    {
     "data": {
      "text/plain": [
       "['Ecusana',\n",
       " 'Admetus',\n",
       " 'Kongo',\n",
       " 'Amon',\n",
       " 'Roxea',\n",
       " 'Hamelis',\n",
       " 'Ford',\n",
       " 'Dedena',\n",
       " 'Danilama',\n",
       " 'Arandil']"
      ]
     },
     "execution_count": 55,
     "metadata": {},
     "output_type": "execute_result"
    }
   ],
   "source": [
    "# Use Google OR tools for the TSP solver (https://developers.google.com/optimization/routing/tsp)\n",
    "\n",
    "# we need a distance callback  takes two arguments, the from and to node indices,\n",
    "# and returns the distance between these node\n",
    "class CreateDistanceCallback(object):\n",
    "  def __init__(self, distances):\n",
    "    self.matrix = distances\n",
    "\n",
    "  def Distance(self, from_node, to_node):\n",
    "    return int(self.matrix[from_node][to_node])\n",
    "\n",
    "def solve_tsp_with_ortools(pairwise_distances, max_time=5000):\n",
    "  tsp_size = len(pairwise_distances[0])\n",
    "  num_routes = 1 # Always 1 for TSP\n",
    "  depot = 0 # Nodes are indexed from 0 to tsp_size - 1. The depot is the starting node of the route.\n",
    "\n",
    "  # create routing model\n",
    "  routing = pywrapcp.RoutingModel(tsp_size, num_routes, depot)\n",
    "  search_parameters = pywrapcp.RoutingModel.DefaultSearchParameters()\n",
    "\n",
    "  # switch to a guided local search so we can do a little better than the default solver\n",
    "  search_parameters.local_search_metaheuristic = (routing_enums_pb2.LocalSearchMetaheuristic.GUIDED_LOCAL_SEARCH)\n",
    "  search_parameters.time_limit_ms = max_time\n",
    "\n",
    "  dist_between_nodes = CreateDistanceCallback(pairwise_distances)\n",
    "  dist_callback = dist_between_nodes.Distance\n",
    "  routing.SetArcCostEvaluatorOfAllVehicles(dist_callback)\n",
    "\n",
    "  # Solve\n",
    "  assignment = routing.SolveWithParameters(search_parameters)\n",
    "\n",
    "  total_distance = assignment.ObjectiveValue()\n",
    "  index = routing.Start(0) # Index of the variable for the starting node.\n",
    "  best_ortools_path = []\n",
    "  while not routing.IsEnd(index):\n",
    "    # Convert variable indices to node indices in the displayed route.\n",
    "    best_ortools_path += [routing.IndexToNode(index)]  \n",
    "    index = assignment.Value(routing.NextVar(index))\n",
    "  return total_distance, best_ortools_path  \n",
    "    \n",
    "total_distance, best_ortools_path = solve_tsp_with_ortools(planet_pairwise_distances, 5000)  \n",
    "\n",
    "print('Total distance: ' + str(total_distance))\n",
    "list(map(lambda i: planets.iat[i,1], best_ortools_path))"
   ]
  },
  {
   "cell_type": "code",
   "execution_count": 56,
   "metadata": {},
   "outputs": [
    {
     "data": {
      "image/png": "[encoded data removed]",
      "text/plain": [
       "<Figure size 504x936 with 1 Axes>"
      ]
     },
     "metadata": {},
     "output_type": "display_data"
    },
    {
     "data": {
      "application/vnd.jupyter.widget-view+json": {
       "model_id": "ba370027033340ed873e774ffdb5490c",
       "version_major": 2,
       "version_minor": 0
      },
      "text/plain": [
       "Image(value=b'\\x89PNG\\r\\n\\x1a\\n\\x00\\x00\\x00\\rIHDR\\x00\\x00\\x048\\x00\\x00\\x07\\x80\\x08\\x02\\x00\\x00\\x00\\xa4\\x03p]\\x…"
      ]
     },
     "metadata": {},
     "output_type": "display_data"
    }
   ],
   "source": [
    "# Plot it\n",
    "x = list(map(lambda i: planets.iat[i,2], best_ortools_path))\n",
    "y = list(map(lambda i: planets.iat[i,3], best_ortools_path))\n",
    "\n",
    "configure_planet_plot()\n",
    "plot.plot(x, y, 'purple', lw=2)\n",
    "plot.scatter(x, y, s=40)\n",
    "plot.show()\n",
    "display_star_system_overlay()\n"
   ]
  },
  {
   "cell_type": "code",
   "execution_count": 57,
   "metadata": {},
   "outputs": [
    {
     "name": "stdout",
     "output_type": "stream",
     "text": [
      "Warp lane calculation will take 3.305555555555556 hours\n"
     ]
    }
   ],
   "source": [
    "# Now on to warp lanes!  Best would be a brute force approach of running TSP for each\n",
    "# combination of N Choose 3 warp lanes (calculated by setting the pairwise distances for\n",
    "# the warp-lane connected planets to zero)\n",
    "# But let's first see how much time this will take...\n",
    "NUM_WARP_LANES = 3\n",
    "\n",
    "# 5ms seems really, really low, but I confirmed it made almost no difference to the solution found without warp\n",
    "# lanes\n",
    "SOLVER_MAX_TIME_PER_ITERATION = 5 #ms  \n",
    "\n",
    "num_planets = len(planets['X'])\n",
    "planet_pairs = itertools.combinations(range(0, num_planets-1), 2)\n",
    "\n",
    "choose_k_warp_lanes = list(itertools.combinations(planet_pairs,NUM_WARP_LANES))\n",
    "\n",
    "# before we start, let's estimate the time it will take\n",
    "num_seconds = len(choose_k_warp_lanes)*SOLVER_MAX_TIME_PER_ITERATION/3/60/60\n",
    "print(\"Warp lane calculation will take \" + str(num_seconds) + \" hours\")"
   ]
  },
  {
   "cell_type": "code",
   "execution_count": 58,
   "metadata": {},
   "outputs": [],
   "source": [
    "# Gulp, that's *maybe* palatable at three warp lanes, but not very...with four, ouch! And we\n",
    "# really need to solve the trade stations at the same time, which is 3 choose Possible Points/Sectors.\n",
    "# Not feasible...\n",
    "\n",
    "# Another idea - do placements (alternating trade stations and warp lanes) one at a time, landing\n",
    "# each best placement in sequence, to get a decent solution"
   ]
  },
  {
   "cell_type": "code",
   "execution_count": 59,
   "metadata": {},
   "outputs": [
    {
     "data": {
      "image/png": "[encoded data removed]",
      "text/plain": [
       "<Figure size 504x936 with 1 Axes>"
      ]
     },
     "metadata": {},
     "output_type": "display_data"
    },
    {
     "data": {
      "application/vnd.jupyter.widget-view+json": {
       "model_id": "2e8952fe89a04a6e95402c5bff2441c3",
       "version_major": 2,
       "version_minor": 0
      },
      "text/plain": [
       "Image(value=b'\\x89PNG\\r\\n\\x1a\\n\\x00\\x00\\x00\\rIHDR\\x00\\x00\\x048\\x00\\x00\\x07\\x80\\x08\\x02\\x00\\x00\\x00\\xa4\\x03p]\\x…"
      ]
     },
     "metadata": {},
     "output_type": "display_data"
    }
   ],
   "source": [
    "# Trade station possible points - for each sector hexagon, test each vertex and the center point;\n",
    "# On the assumption that we have two empty side-by-side sectors that we've marked *somewhere*,\n",
    "# the hexagon width (side to side) will be the min distance\n",
    "pairwise_sector_distances = calc_pairwise_distances(sectors['X'],sectors['Y'])\n",
    "all_distances = list(np.array(pairwise_sector_distances).flat)\n",
    "all_distances = list(filter(lambda x: x !=0, all_distances))\n",
    "hex_long_r = min(all_distances) / 2\n",
    "hex_short_r = math.sqrt(3) * hex_long_r / 2\n",
    "hex_sine = hex_long_r * math.sin(math.radians(60))\n",
    "\n",
    "sector_hexagons = []\n",
    "for index, sector in sectors.iterrows():\n",
    "    x = sector['X']\n",
    "    y = sector['Y']\n",
    "    points = [[x,y]]\n",
    "    points.append([x+hex_long_r,y])\n",
    "    points.append([x+hex_sine, y+hex_short_r])\n",
    "    points.append([x-hex_sine, y+hex_short_r])\n",
    "    points.append([x-hex_long_r,y])\n",
    "    points.append([x-hex_sine, y-hex_short_r])\n",
    "    points.append([x+hex_sine, y-hex_short_r])\n",
    "    sector_hexagons.append(points)\n",
    "    \n",
    "# plot all the possible locations we'll be looking at\n",
    "configure_planet_plot()\n",
    "sector_points = np.array([val for sublist in sector_hexagons for val in sublist])\n",
    "plot.scatter(sector_points[:,0], sector_points[:,1], s=15)\n",
    "plot.show()\n",
    "display_star_system_overlay()"
   ]
  },
  {
   "cell_type": "code",
   "execution_count": null,
   "metadata": {},
   "outputs": [
    {
     "name": "stdout",
     "output_type": "stream",
     "text": [
      "New station added: 207,205\n",
      "New warp lane added: (5, 9)\n",
      "New station added: 312.07670166934173,295.92329833065827\n",
      "New warp lane added: (0, 7)\n"
     ]
    }
   ],
   "source": [
    "# do the one at a time approach\n",
    "def add_suboptimal_trade_station(planets_and_stations, warp_lanes, used_hexagon_indexes):\n",
    "  # initialize a new station\n",
    "  new_location = {'Name':('Station'+str(len(planets_and_stations['X'])+1)), 'X':0, 'Y':0, 'Unnamed 0':''}\n",
    "  planets_and_stations.loc[len(planets_and_stations['X'])] = new_location\n",
    "  size = len(planets_and_stations['X'])\n",
    "                            \n",
    "  # try each possible point  \n",
    "  best_hex = None\n",
    "  best_point = None                                                    \n",
    "  best_distance = None\n",
    "  best_route = None\n",
    "  for hex_i, hexagon in enumerate(sector_hexagons):\n",
    "    if hex_i in used_hexagon_indexes:\n",
    "      continue                                                  \n",
    "    for point in hexagon:\n",
    "      planets_and_stations.loc[size-1,'X'] = point[0]\n",
    "      planets_and_stations.loc[size-1,'Y'] = point[1]\n",
    "      distances = calc_pairwise_distances(planets_and_stations['X'], planets_and_stations['Y'], warp_lanes)\n",
    "      total_distance, route = solve_tsp_with_ortools(distances, 100)\n",
    "      if(best_distance == None or total_distance < best_distance):\n",
    "        best_distance = total_distance\n",
    "        best_hex = hex_i\n",
    "        best_point = point\n",
    "        best_route = route\n",
    "  # keep the best point                                                   \n",
    "  planets_and_stations.at[size-1,'X'] = best_point[0]\n",
    "  planets_and_stations.at[size-1,'Y'] = best_point[1]\n",
    "                                                      \n",
    "  # blacklist the used hexagon\n",
    "  used_hexagon_indexes.append(best_hex)\n",
    "  \n",
    "  print('New station added: ' + str(best_point[0]) + ',' + str(best_point[1]))\n",
    "  return best_route  \n",
    "    \n",
    "def add_suboptimal_warp_lane(planets_and_stations, warp_lanes): \n",
    "  size = len(planets_and_stations['X'])\n",
    "  # initialize a new warp lane\n",
    "  warp_lanes.append([0,0])\n",
    "  planet_pairs = itertools.combinations(range(0, size-1), 2)\n",
    "\n",
    "  best_route = None\n",
    "  best_distance = None  \n",
    "  best_warp_lane = None\n",
    "  for pair in planet_pairs:\n",
    "    warp_lanes[-1] = pair\n",
    "    distances = calc_pairwise_distances(planets_and_stations['X'], planets_and_stations['Y'], warp_lanes)\n",
    "    total_distance, route = solve_tsp_with_ortools(distances, 100)\n",
    "    if(best_distance == None or total_distance < best_distance):\n",
    "        best_distance = total_distance\n",
    "        best_route = route\n",
    "        best_warp_lane = pair\n",
    "  warp_lanes[-1] = best_warp_lane\n",
    "  print('New warp lane added: ' + str(warp_lanes[-1]))\n",
    "  return best_route\n",
    "\n",
    "# let's do this\n",
    "planets_and_stations = planets.copy()\n",
    "warp_lanes = []\n",
    "used_hexagon_indexes = []\n",
    "\n",
    "# three stations, four warp lanes\n",
    "add_suboptimal_trade_station(planets_and_stations, warp_lanes, used_hexagon_indexes)\n",
    "add_suboptimal_warp_lane(planets_and_stations, warp_lanes) \n",
    "add_suboptimal_trade_station(planets_and_stations, warp_lanes, used_hexagon_indexes)\n",
    "add_suboptimal_warp_lane(planets_and_stations, warp_lanes) \n",
    "add_suboptimal_trade_station(planets_and_stations, warp_lanes, used_hexagon_indexes)\n",
    "best_route = add_suboptimal_warp_lane(planets_and_stations, warp_lanes) \n",
    "\n",
    "best_route         "
   ]
  },
  {
   "cell_type": "code",
   "execution_count": null,
   "metadata": {},
   "outputs": [],
   "source": [
    "# plot it\n",
    "route_ordered = [planets_and_stations.loc[i] for i in best_route]\n",
    "planets = planets_and_stations[:-3]\n",
    "stations = planets_and_stations[-3:]\n",
    "\n",
    "configure_planet_plot()\n",
    "# whole route\n",
    "plot.plot([p[\"X\"] for p in route_ordered], [p[\"Y\"] for p in route_ordered], 'blue', lw=2)\n",
    "# plus back to start\n",
    "plot.plot([route_ordered[0]['X'],route_ordered[-1]['X']], [route_ordered[0]['Y'],route_ordered[-1]['Y']], 'blue', lw=2)\n",
    "# warp lanes\n",
    "for planet_pair in warp_lanes:\n",
    "  planet_a = planets_and_stations.loc[planet_pair[0]]\n",
    "  planet_b = planets_and_stations.loc[planet_pair[1]] \n",
    "  plot.plot([planet_a['X'], planet_b['X']], [planet_a['Y'], planet_b['Y']], 'red', lw=4)\n",
    "# planets\n",
    "plot.scatter(planets['X'], planets['Y'], s=30)\n",
    "# stations\n",
    "plot.scatter(stations['X'], stations['Y'], s=100)\n",
    "# sectors\n",
    "plot.scatter(sector_points[:,0], sector_points[:,1], s=15)\n",
    "\n",
    "plot.show()\n",
    "display_star_system_overlay()"
   ]
  },
  {
   "cell_type": "code",
   "execution_count": null,
   "metadata": {},
   "outputs": [],
   "source": []
  }
 ],
 "metadata": {
  "kernelspec": {
   "display_name": "Python 3",
   "language": "python",
   "name": "python3"
  },
  "language_info": {
   "codemirror_mode": {
    "name": "ipython",
    "version": 3
   },
   "file_extension": ".py",
   "mimetype": "text/x-python",
   "name": "python",
   "nbconvert_exporter": "python",
   "pygments_lexer": "ipython3",
   "version": "3.6.5"
  }
 },
 "nbformat": 4,
 "nbformat_minor": 2
}
