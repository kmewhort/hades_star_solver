{
 "cells": [
  {
   "cell_type": "markdown",
   "metadata": {},
   "source": [
    "# Hades Star Data Builder\n",
    "\n",
    "## About\n",
    "\n",
    "This is a point-and-click tool to map out the planet and sector locations for a Hades star system, which can then act as input to our TSP solver.\n",
    "\n",
    "## Instructions\n",
    "\n",
    "### A. Screenshot\n",
    "1. Zoom your system as large as possible to fit on the sceen bounds of your device, including empty sectors, then take a screenshot (press power and volume down on most Android phones).\n",
    "2. Save your screenshot in the same directory as this file, named `sceenshot.png`\n",
    "\n",
    "### B. Planet locations\n",
    "1. Go to the menu `Kernel -> Restart and Run All` to ensure you're starting from a clean slate.\n",
    "2. On the first image below, click the center of each of your planets and fill in the planet names. IGNORE THE MOONS - they orbit the planet, so the planet center point is the best location for them as well). Also ignore your stations, assuming you want to optimize their locations!\n",
    "3. If you mess up during the clicking, just keep going and manually fix the data in the CSV after.\n",
    "3. Click the button `Save Planets CSV` to save the data as `planets.csv`\n",
    "\n",
    "\n",
    "### C. Empty sector locations\n",
    "1. On the second image below, click the *center* (as best as possible) of each *empty* sector\n",
    "2. Click the button `Save Sector CSV` to save the data as `sector.csv`. "
   ]
  },
  {
   "cell_type": "code",
   "execution_count": 1,
   "metadata": {},
   "outputs": [
    {
     "data": {
      "text/html": [
       "<style>\n",
       ".output {\n",
       "    flex-direction: row;\n",
       "}\n",
       "div.output_subarea, div.output_area img {\n",
       "  max-width: none;\n",
       "  overflow-x: none;\n",
       "}\n",
       ".widget-image {\n",
       "  width: 392px !important;\n",
       "  height: 705px !important;\n",
       "}\n",
       "</style>"
      ],
      "text/plain": [
       "<IPython.core.display.HTML object>"
      ]
     },
     "execution_count": 1,
     "metadata": {},
     "output_type": "execute_result"
    }
   ],
   "source": [
    "# initialize\n",
    "import pandas as pd\n",
    "from ipywidgets import Image, widgets\n",
    "from IPython.display import display, clear_output, Javascript, HTML\n",
    "import time\n",
    "\n",
    "# two column, but don't let our images get squished (we need them always the same size)\n",
    "CSS = \"\"\"\n",
    ".output {\n",
    "    flex-direction: row;\n",
    "}\n",
    "div.output_subarea, div.output_area img {\n",
    "  max-width: none;\n",
    "  overflow-x: none;\n",
    "}\n",
    ".widget-image {\n",
    "  width: 392px !important;\n",
    "  height: 705px !important;\n",
    "}\n",
    "\"\"\"\n",
    "HTML('<style>{}</style>'.format(CSS))\n",
    "\n"
   ]
  },
  {
   "cell_type": "code",
   "execution_count": 2,
   "metadata": {},
   "outputs": [],
   "source": [
    "# initialize empty data\n",
    "planet_columns = ['Name','X','Y']\n",
    "planet_data = []\n",
    "\n",
    "sector_columns = ['X','Y']\n",
    "sector_data = []"
   ]
  },
  {
   "cell_type": "code",
   "execution_count": 3,
   "metadata": {},
   "outputs": [
    {
     "data": {
      "application/vnd.jupyter.widget-view+json": {
       "model_id": "3adf93854146425dae633e099b608fe0",
       "version_major": 2,
       "version_minor": 0
      },
      "text/plain": [
       "Image(value=b'\\x89PNG\\r\\n\\x1a\\n\\x00\\x00\\x00\\rIHDR\\x00\\x00\\x048\\x00\\x00\\x07\\x80\\x08\\x02\\x00\\x00\\x00\\xa4\\x03p]\\x…"
      ]
     },
     "metadata": {},
     "output_type": "display_data"
    },
    {
     "data": {
      "application/vnd.jupyter.widget-view+json": {
       "model_id": "c3e09e4eb27d4b5aaa3bc569caf73000",
       "version_major": 2,
       "version_minor": 0
      },
      "text/plain": [
       "Output()"
      ]
     },
     "metadata": {},
     "output_type": "display_data"
    },
    {
     "data": {
      "application/javascript": [
       "$('#notebook > .container').unbind('click').on('click', '.planet_map', function(ev){\n",
       "    var planet_name = prompt(\"Planet name at \" + ev.offsetX + \",\" + ev.offsetY + \":\");\n",
       "    var kernel = IPython.notebook.kernel;\n",
       "    kernel.execute(\"add_planet('\" + planet_name + \"', \" + ev.offsetX + \",\" + ev.offsetY + \")\" );\n",
       "   });\n"
      ],
      "text/plain": [
       "<IPython.core.display.Javascript object>"
      ]
     },
     "metadata": {},
     "output_type": "display_data"
    }
   ],
   "source": [
    "# load the image of our star system - put a file named screenshot.jpg in the current directory,\n",
    "# or change the filename below\n",
    "SCREENSHOT_FILENAME = './screenshot.png'\n",
    "image = Image(value=open(SCREENSHOT_FILENAME, 'rb').read(), width=620)\n",
    "image.add_class('planet_map')\n",
    "\n",
    "# refreshable data table of the planet positions\n",
    "planets_container = widgets.Output()\n",
    "def refresh_planet_table():\n",
    "  with planets_container:\n",
    "    clear_output(wait=True)\n",
    "    display(pd.DataFrame(planet_data, columns=planet_columns))\n",
    "refresh_planet_table()\n",
    "\n",
    "# helper to load the planet locations\n",
    "def add_planet(name,x,y):\n",
    "    planet_data.append([name,x,y])\n",
    "    refresh_planet_table()\n",
    "js = '''$('#notebook > .container').unbind('click').on('click', '.planet_map', function(ev){\n",
    "    var planet_name = prompt(\"Planet name at \" + ev.offsetX + \",\" + ev.offsetY + \":\");\n",
    "    var kernel = IPython.notebook.kernel;\n",
    "    kernel.execute(\"add_planet('\" + planet_name + \"', \" + ev.offsetX + \",\" + ev.offsetY + \")\" );\n",
    "   });\n",
    "'''\n",
    "\n",
    "display(image)\n",
    "display(planets_container)\n",
    "display(Javascript(js))\n"
   ]
  },
  {
   "cell_type": "code",
   "execution_count": 4,
   "metadata": {},
   "outputs": [
    {
     "data": {
      "application/vnd.jupyter.widget-view+json": {
       "model_id": "1f33119b2f4c474bb8a3a913938e477e",
       "version_major": 2,
       "version_minor": 0
      },
      "text/plain": [
       "Button(description='Save planets CSV!', style=ButtonStyle())"
      ]
     },
     "metadata": {},
     "output_type": "display_data"
    }
   ],
   "source": [
    "# Button to save planes to CSV\n",
    "# (implemented as a button to make sure we don't clobber our data)\n",
    "planet_save_button = widgets.Button(description=\"Save planets CSV!\")\n",
    "\n",
    "def save_planets_csv(b):\n",
    "  planets_df = pd.DataFrame(planet_data, columns=planet_columns)  \n",
    "  planets_df.to_csv('planets.csv')\n",
    "\n",
    "planet_save_button.on_click(save_planets_csv)\n",
    "display(planet_save_button)"
   ]
  },
  {
   "cell_type": "code",
   "execution_count": 5,
   "metadata": {},
   "outputs": [
    {
     "data": {
      "application/javascript": [
       "$('#notebook > .container').on('click', '.sector_map', function(ev){\n",
       "    var should_proceed = window.confirm(\"Mark empty sector at \" + ev.offsetX + \",\" + ev.offsetY + \"?\");\n",
       "    if(should_proceed) {\n",
       "      var kernel = IPython.notebook.kernel;\n",
       "      kernel.execute(\"add_empty_sector(\" + ev.offsetX + \",\" + ev.offsetY + \")\" );\n",
       "    }\n",
       "   });\n"
      ],
      "text/plain": [
       "<IPython.core.display.Javascript object>"
      ]
     },
     "metadata": {},
     "output_type": "display_data"
    },
    {
     "data": {
      "application/vnd.jupyter.widget-view+json": {
       "model_id": "532c0cb3989046ecbb9acc124bcab359",
       "version_major": 2,
       "version_minor": 0
      },
      "text/plain": [
       "Image(value=b'\\x89PNG\\r\\n\\x1a\\n\\x00\\x00\\x00\\rIHDR\\x00\\x00\\x048\\x00\\x00\\x07\\x80\\x08\\x02\\x00\\x00\\x00\\xa4\\x03p]\\x…"
      ]
     },
     "metadata": {},
     "output_type": "display_data"
    },
    {
     "data": {
      "application/vnd.jupyter.widget-view+json": {
       "model_id": "20baf51772994f0cacee633b4be2abf7",
       "version_major": 2,
       "version_minor": 0
      },
      "text/plain": [
       "Output()"
      ]
     },
     "metadata": {},
     "output_type": "display_data"
    }
   ],
   "source": [
    "# take a similar approach to identify our empty sectors\n",
    "image = Image(value=open(SCREENSHOT_FILENAME, 'rb').read(), width=620)\n",
    "image.add_class('sector_map')\n",
    "\n",
    "# refreshable data table of the planet positions\n",
    "sector_container = widgets.Output()\n",
    "def refresh_sector_table():\n",
    "  with sector_container:\n",
    "    clear_output(wait=True)\n",
    "    display(pd.DataFrame(sector_data, columns=sector_columns))\n",
    "refresh_sector_table()\n",
    "\n",
    "# helper to load the planet locations\n",
    "def add_empty_sector(x,y):\n",
    "    sector_data.append([x,y])\n",
    "    refresh_sector_table()\n",
    "js = '''$('#notebook > .container').on('click', '.sector_map', function(ev){\n",
    "    var should_proceed = window.confirm(\"Mark empty sector at \" + ev.offsetX + \",\" + ev.offsetY + \"?\");\n",
    "    if(should_proceed) {\n",
    "      var kernel = IPython.notebook.kernel;\n",
    "      kernel.execute(\"add_empty_sector(\" + ev.offsetX + \",\" + ev.offsetY + \")\" );\n",
    "    }\n",
    "   });\n",
    "'''\n",
    "display(Javascript(js))\n",
    "\n",
    "display(image)\n",
    "display(sector_container)"
   ]
  },
  {
   "cell_type": "code",
   "execution_count": 6,
   "metadata": {},
   "outputs": [
    {
     "data": {
      "application/vnd.jupyter.widget-view+json": {
       "model_id": "9e3161c420224c7f8e326ab61b57bf9d",
       "version_major": 2,
       "version_minor": 0
      },
      "text/plain": [
       "Button(description='Save sector CSV!', style=ButtonStyle())"
      ]
     },
     "metadata": {},
     "output_type": "display_data"
    }
   ],
   "source": [
    "# Button to save planes to CSV\n",
    "# (implemented as a button to make sure we don't clobber our data)\n",
    "button = widgets.Button(description=\"Save sector CSV!\")\n",
    "\n",
    "def save_sectors_csv(b):\n",
    "  sectors_df = pd.DataFrame(sector_data, columns=sector_columns)  \n",
    "  sectors_df.to_csv('sectors.csv')\n",
    "\n",
    "button.on_click(save_sectors_csv)\n",
    "display(button)"
   ]
  },
  {
   "cell_type": "code",
   "execution_count": null,
   "metadata": {},
   "outputs": [],
   "source": []
  }
 ],
 "metadata": {
  "kernelspec": {
   "display_name": "Python 3",
   "language": "python",
   "name": "python3"
  },
  "language_info": {
   "codemirror_mode": {
    "name": "ipython",
    "version": 3
   },
   "file_extension": ".py",
   "mimetype": "text/x-python",
   "name": "python",
   "nbconvert_exporter": "python",
   "pygments_lexer": "ipython3",
   "version": "3.6.5"
  }
 },
 "nbformat": 4,
 "nbformat_minor": 2
}
